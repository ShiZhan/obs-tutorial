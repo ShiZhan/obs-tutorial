{
 "cells": [
  {
   "cell_type": "code",
   "execution_count": 1,
   "source": [
    "import botocore\r\n",
    "from boto3.session import Session\r\n",
    "import time\r\n",
    "import throttle\r\n",
    "\r\n",
    "# 准备密钥\r\n",
    "aws_access_key_id = 'hust'\r\n",
    "aws_secret_access_key = 'hust_obs'\r\n",
    "\r\n",
    "# 建立会话\r\n",
    "session = Session(aws_access_key_id=aws_access_key_id, aws_secret_access_key=aws_secret_access_key)\r\n",
    "\r\n",
    "# 连接到服务\r\n",
    "s3 = session.resource('s3', endpoint_url='http://192.168.33.1:9000')"
   ],
   "outputs": [],
   "metadata": {}
  },
  {
   "cell_type": "markdown",
   "source": [
    "查看所有bucket"
   ],
   "metadata": {}
  },
  {
   "cell_type": "code",
   "execution_count": 2,
   "source": [
    "for bucket in s3.buckets.all():\r\n",
    "    print('bucket name:%s' % bucket.name)"
   ],
   "outputs": [
    {
     "output_type": "stream",
     "name": "stdout",
     "text": [
      "bucket name:loadgen\n"
     ]
    }
   ],
   "metadata": {}
  },
  {
   "cell_type": "markdown",
   "source": [
    "新建一个bucket (注意：\"bucket name\" 中不能有下划线)"
   ],
   "metadata": {}
  },
  {
   "cell_type": "code",
   "execution_count": 4,
   "source": [
    "bucket_name = 'test100objs'\r\n",
    "if s3.Bucket(bucket_name) not in s3.buckets.all():\r\n",
    "    s3.create_bucket(Bucket=bucket_name)"
   ],
   "outputs": [],
   "metadata": {}
  },
  {
   "cell_type": "markdown",
   "source": [
    "查看此bucket下的所有object"
   ],
   "metadata": {}
  },
  {
   "cell_type": "code",
   "execution_count": 5,
   "source": [
    "bucket = s3.Bucket(bucket_name)\r\n",
    "for obj in bucket.objects.all():\r\n",
    "    print('obj name:%s' % obj.key)"
   ],
   "outputs": [],
   "metadata": {}
  },
  {
   "cell_type": "markdown",
   "source": [
    "准备负载，按照几种不同请求到达率(Inter-Arrival Time, IAT)设置。"
   ],
   "metadata": {}
  },
  {
   "cell_type": "code",
   "execution_count": 6,
   "source": [
    "# 发起请求和计算系统停留时间\r\n",
    "def request_timing(i):\r\n",
    "    # 上传obj\r\n",
    "    obj_name = \"testObj%08d\"%(i,)\r\n",
    "    local_file = 'README.md'\r\n",
    "    # temp_file = '.tempfile'\r\n",
    "    service_time = 0\r\n",
    "    start = time.time()\r\n",
    "    s3.Object(bucket_name, obj_name).upload_file(local_file)\r\n",
    "    # 或\r\n",
    "    # bucket.put_object(Key=obj_name, Body=open(local_file, 'rb'))\r\n",
    "    # 下载obj\r\n",
    "    # s3.Object(bucket_name, obj_name).download_file(temp_file)\r\n",
    "    end = time.time()\r\n",
    "    system_time = end - start\r\n",
    "    return system_time * 1000 # 换算为毫秒\r\n",
    "\r\n",
    "# 按照请求到达率限制来执行和跟踪请求\r\n",
    "def arrival_rate_max(i): # unlimited\r\n",
    "    return request_timing(i)\r\n",
    "\r\n",
    "@throttle.wrap(0.1, 2) # 100ms 2 个\r\n",
    "def arrival_rate_2(i):\r\n",
    "    return request_timing(i)\r\n",
    "\r\n",
    "@throttle.wrap(0.1, 4)\r\n",
    "def arrival_rate_4(i):\r\n",
    "    return request_timing(i)\r\n",
    "\r\n",
    "@throttle.wrap(0.1, 8)\r\n",
    "def arrival_rate_8(i):\r\n",
    "    return request_timing(i)"
   ],
   "outputs": [],
   "metadata": {}
  },
  {
   "cell_type": "markdown",
   "source": [
    "按照预设IAT发起请求"
   ],
   "metadata": {}
  },
  {
   "cell_type": "code",
   "execution_count": 7,
   "source": [
    "latency = []\r\n",
    "for i in range(100):\r\n",
    "    # 上传obj\r\n",
    "    st = arrival_rate_max(i)\r\n",
    "    succ = not st is throttle.fail\r\n",
    "    print(succ, st)\r\n",
    "    if succ:\r\n",
    "        latency.append(st)"
   ],
   "outputs": [
    {
     "output_type": "stream",
     "name": "stdout",
     "text": [
      "True 25.860309600830078\n",
      "True 16.825437545776367\n",
      "True 13.784170150756836\n",
      "True 23.554563522338867\n",
      "True 22.9341983795166\n",
      "True 12.856483459472656\n",
      "True 15.47694206237793\n",
      "True 22.40443229675293\n",
      "True 26.862144470214844\n",
      "True 14.463186264038086\n",
      "True 15.209436416625977\n",
      "True 15.250444412231445\n",
      "True 13.782024383544922\n",
      "True 15.175819396972656\n",
      "True 14.690637588500977\n",
      "True 24.734973907470703\n",
      "True 26.947975158691406\n",
      "True 19.07038688659668\n",
      "True 18.70894432067871\n",
      "True 15.949726104736328\n",
      "True 14.002323150634766\n",
      "True 13.886451721191406\n",
      "True 13.472795486450195\n",
      "True 12.658119201660156\n",
      "True 15.999078750610352\n",
      "True 16.99066162109375\n",
      "True 18.594026565551758\n",
      "True 21.39759063720703\n",
      "True 15.786409378051758\n",
      "True 52.542686462402344\n",
      "True 14.214277267456055\n",
      "True 13.426065444946289\n",
      "True 13.730525970458984\n",
      "True 14.903068542480469\n",
      "True 16.353368759155273\n",
      "True 19.608020782470703\n",
      "True 24.484634399414062\n",
      "True 13.946533203125\n",
      "True 13.319730758666992\n",
      "True 24.176597595214844\n",
      "True 24.076461791992188\n",
      "True 18.31674575805664\n",
      "True 15.169143676757812\n",
      "True 15.753030776977539\n",
      "True 18.2645320892334\n",
      "True 16.57867431640625\n",
      "True 17.529010772705078\n",
      "True 19.075870513916016\n",
      "True 15.704631805419922\n",
      "True 16.3877010345459\n",
      "True 12.926101684570312\n",
      "True 13.11182975769043\n",
      "True 13.814926147460938\n",
      "True 16.523361206054688\n",
      "True 14.994621276855469\n",
      "True 16.681671142578125\n",
      "True 14.407873153686523\n",
      "True 15.141010284423828\n",
      "True 13.643503189086914\n",
      "True 26.8709659576416\n",
      "True 24.65510368347168\n",
      "True 16.328811645507812\n",
      "True 17.505168914794922\n",
      "True 14.026641845703125\n",
      "True 14.303922653198242\n",
      "True 16.228675842285156\n",
      "True 13.646841049194336\n",
      "True 13.696908950805664\n",
      "True 15.625953674316406\n",
      "True 16.489028930664062\n",
      "True 17.720937728881836\n",
      "True 15.102386474609375\n",
      "True 16.39103889465332\n",
      "True 16.680002212524414\n",
      "True 16.631364822387695\n",
      "True 15.035152435302734\n",
      "True 15.19465446472168\n",
      "True 15.114545822143555\n",
      "True 13.478994369506836\n",
      "True 14.340639114379883\n",
      "True 11.77835464477539\n",
      "True 15.012264251708984\n",
      "True 14.01829719543457\n",
      "True 15.514373779296875\n",
      "True 14.407634735107422\n",
      "True 15.477657318115234\n",
      "True 19.3331241607666\n",
      "True 16.724348068237305\n",
      "True 15.72871208190918\n",
      "True 16.139984130859375\n",
      "True 13.101577758789062\n",
      "True 13.38338851928711\n",
      "True 11.425971984863281\n",
      "True 13.420581817626953\n",
      "True 12.825489044189453\n",
      "True 16.443490982055664\n",
      "True 17.606496810913086\n",
      "True 19.091367721557617\n",
      "True 19.858360290527344\n",
      "True 17.022132873535156\n"
     ]
    }
   ],
   "metadata": {}
  },
  {
   "cell_type": "markdown",
   "source": [
    "清理"
   ],
   "metadata": {}
  },
  {
   "cell_type": "code",
   "execution_count": 8,
   "source": [
    "try:\r\n",
    "    # 删除bucket下所有object\r\n",
    "    bucket.objects.filter().delete()\r\n",
    "\r\n",
    "    # 删除bucket下某个object\r\n",
    "    # bucket.objects.filter(Prefix=obj_name).delete()\r\n",
    "\r\n",
    "    bucket.delete()\r\n",
    "except botocore.exceptions.ClientError as e:\r\n",
    "    print('error in bucket removal')"
   ],
   "outputs": [],
   "metadata": {}
  },
  {
   "cell_type": "markdown",
   "source": [
    "记录延迟到CSV文件"
   ],
   "metadata": {}
  },
  {
   "cell_type": "code",
   "execution_count": 9,
   "source": [
    "with open(\"latency.csv\", \"w+\") as tracefile:\r\n",
    "    tracefile.write(\"latency\\n\")\r\n",
    "    tracefile.writelines([str(l) + '\\n' for l in latency])"
   ],
   "outputs": [],
   "metadata": {}
  }
 ],
 "metadata": {
  "orig_nbformat": 4,
  "language_info": {
   "name": "python",
   "version": "3.9.7",
   "mimetype": "text/x-python",
   "codemirror_mode": {
    "name": "ipython",
    "version": 3
   },
   "pygments_lexer": "ipython3",
   "nbconvert_exporter": "python",
   "file_extension": ".py"
  },
  "kernelspec": {
   "name": "python3",
   "display_name": "Python 3.9.7 64-bit ('lab': conda)"
  },
  "interpreter": {
   "hash": "f487011d6c19380a0f12fb28ca8659fdd2afd3ccddcfad5755f4bb9819179fc2"
  }
 },
 "nbformat": 4,
 "nbformat_minor": 2
}