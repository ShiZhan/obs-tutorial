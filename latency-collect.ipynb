{
 "cells": [
  {
   "cell_type": "code",
   "execution_count": 2,
   "source": [
    "import os\r\n",
    "import botocore\r\n",
    "from boto3.session import Session\r\n",
    "import time\r\n",
    "import throttle\r\n",
    "\r\n",
    "# 准备密钥\r\n",
    "aws_access_key_id = 'hust'\r\n",
    "aws_secret_access_key = 'hust_obs'\r\n",
    "\r\n",
    "# 建立会话\r\n",
    "session = Session(aws_access_key_id=aws_access_key_id, aws_secret_access_key=aws_secret_access_key)\r\n",
    "\r\n",
    "# 连接到服务\r\n",
    "s3 = session.resource('s3', endpoint_url='http://192.168.33.1:9000')"
   ],
   "outputs": [],
   "metadata": {}
  },
  {
   "cell_type": "markdown",
   "source": [
    "查看所有bucket"
   ],
   "metadata": {}
  },
  {
   "cell_type": "code",
   "execution_count": 3,
   "source": [
    "for bucket in s3.buckets.all():\r\n",
    "    print('bucket name:%s' % bucket.name)"
   ],
   "outputs": [
    {
     "output_type": "stream",
     "name": "stdout",
     "text": [
      "bucket name:loadgen\n",
      "bucket name:test001\n"
     ]
    }
   ],
   "metadata": {}
  },
  {
   "cell_type": "markdown",
   "source": [
    "新建一个bucket (注意：\"bucket name\" 中不能有下划线)"
   ],
   "metadata": {}
  },
  {
   "cell_type": "code",
   "execution_count": 4,
   "source": [
    "bucket_name = 'test100objs'\r\n",
    "if s3.Bucket(bucket_name) not in s3.buckets.all():\r\n",
    "    s3.create_bucket(Bucket=bucket_name)"
   ],
   "outputs": [],
   "metadata": {}
  },
  {
   "cell_type": "markdown",
   "source": [
    "查看此bucket下的所有object"
   ],
   "metadata": {}
  },
  {
   "cell_type": "code",
   "execution_count": 5,
   "source": [
    "bucket = s3.Bucket(bucket_name)\r\n",
    "for obj in bucket.objects.all():\r\n",
    "    print('obj name:%s' % obj.key)"
   ],
   "outputs": [],
   "metadata": {}
  },
  {
   "cell_type": "markdown",
   "source": [
    "准备负载，按照几种不同请求到达率(Inter-Arrival Time, IAT)设置。"
   ],
   "metadata": {}
  },
  {
   "cell_type": "code",
   "execution_count": 7,
   "source": [
    "local_file = \"_test_4K.bin\"\r\n",
    "test_bytes = [0xFF for i in range(1024*4)]\r\n",
    "\r\n",
    "with open(local_file, \"wb\") as lf:\r\n",
    "    lf.write(bytearray(test_bytes))\r\n",
    "\r\n",
    "# 发起请求和计算系统停留时间\r\n",
    "def request_timing(i):\r\n",
    "    # 上传obj\r\n",
    "    obj_name = \"testObj%08d\"%(i,)\r\n",
    "    # temp_file = '.tempfile'\r\n",
    "    service_time = 0\r\n",
    "    start = time.time()\r\n",
    "    s3.Object(bucket_name, obj_name).upload_file(local_file)\r\n",
    "    # 或\r\n",
    "    # bucket.put_object(Key=obj_name, Body=open(local_file, 'rb'))\r\n",
    "    # 下载obj\r\n",
    "    # s3.Object(bucket_name, obj_name).download_file(temp_file)\r\n",
    "    end = time.time()\r\n",
    "    system_time = end - start\r\n",
    "    return system_time * 1000 # 换算为毫秒\r\n",
    "\r\n",
    "# 按照请求到达率限制来执行和跟踪请求\r\n",
    "def arrival_rate_max(i): # unlimited\r\n",
    "    return request_timing(i)\r\n",
    "\r\n",
    "@throttle.wrap(0.1, 2) # 100ms 2 个\r\n",
    "def arrival_rate_2(i):\r\n",
    "    return request_timing(i)\r\n",
    "\r\n",
    "@throttle.wrap(0.1, 4)\r\n",
    "def arrival_rate_4(i):\r\n",
    "    return request_timing(i)\r\n",
    "\r\n",
    "@throttle.wrap(0.1, 8)\r\n",
    "def arrival_rate_8(i):\r\n",
    "    return request_timing(i)"
   ],
   "outputs": [],
   "metadata": {}
  },
  {
   "cell_type": "markdown",
   "source": [
    "按照预设IAT发起请求"
   ],
   "metadata": {}
  },
  {
   "cell_type": "code",
   "execution_count": 8,
   "source": [
    "latency = []\r\n",
    "for i in range(100):\r\n",
    "    # 上传obj\r\n",
    "    st = arrival_rate_max(i)\r\n",
    "    succ = not st is throttle.fail\r\n",
    "    print(succ, st)\r\n",
    "    if succ:\r\n",
    "        latency.append(st)"
   ],
   "outputs": [
    {
     "output_type": "stream",
     "name": "stdout",
     "text": [
      "True 19.048452377319336\n",
      "True 18.268585205078125\n",
      "True 16.484737396240234\n",
      "True 19.948482513427734\n",
      "True 20.379066467285156\n",
      "True 20.626306533813477\n",
      "True 19.40321922302246\n",
      "True 16.15309715270996\n",
      "True 16.213417053222656\n",
      "True 19.46878433227539\n",
      "True 12.932777404785156\n",
      "True 13.104677200317383\n",
      "True 12.191295623779297\n",
      "True 12.163162231445312\n",
      "True 18.07093620300293\n",
      "True 16.010522842407227\n",
      "True 13.829231262207031\n",
      "True 14.847755432128906\n",
      "True 11.795520782470703\n",
      "True 12.924909591674805\n",
      "True 13.800859451293945\n",
      "True 11.71875\n",
      "True 12.505292892456055\n",
      "True 12.422323226928711\n",
      "True 12.597799301147461\n",
      "True 13.301610946655273\n",
      "True 12.873172760009766\n",
      "True 45.21822929382324\n",
      "True 15.040159225463867\n",
      "True 12.68458366394043\n",
      "True 11.396169662475586\n",
      "True 13.08298110961914\n",
      "True 12.254476547241211\n",
      "True 11.559486389160156\n",
      "True 13.336896896362305\n",
      "True 12.578487396240234\n",
      "True 13.459920883178711\n",
      "True 14.1754150390625\n",
      "True 12.149333953857422\n",
      "True 13.643741607666016\n",
      "True 17.397165298461914\n",
      "True 16.630887985229492\n",
      "True 13.532876968383789\n",
      "True 12.741327285766602\n",
      "True 13.525009155273438\n",
      "True 12.388944625854492\n",
      "True 11.233091354370117\n",
      "True 12.14146614074707\n",
      "True 12.714385986328125\n",
      "True 13.059616088867188\n",
      "True 11.971473693847656\n",
      "True 12.549400329589844\n",
      "True 12.259483337402344\n",
      "True 13.71002197265625\n",
      "True 13.936519622802734\n",
      "True 16.610145568847656\n",
      "True 38.565635681152344\n",
      "True 31.671524047851562\n",
      "True 17.281293869018555\n",
      "True 15.142440795898438\n",
      "True 14.623880386352539\n",
      "True 14.714717864990234\n",
      "True 14.96267318725586\n",
      "True 17.50779151916504\n",
      "True 15.648841857910156\n",
      "True 16.714811325073242\n",
      "True 22.92776107788086\n",
      "True 15.782356262207031\n",
      "True 18.62311363220215\n",
      "True 12.489080429077148\n",
      "True 15.240192413330078\n",
      "True 13.636350631713867\n",
      "True 12.864351272583008\n",
      "True 13.21268081665039\n",
      "True 14.108419418334961\n",
      "True 16.000032424926758\n",
      "True 13.628482818603516\n",
      "True 14.344215393066406\n",
      "True 15.131235122680664\n",
      "True 22.157669067382812\n",
      "True 14.24717903137207\n",
      "True 14.722347259521484\n",
      "True 14.293432235717773\n",
      "True 13.18979263305664\n",
      "True 15.38991928100586\n",
      "True 16.19720458984375\n",
      "True 14.589548110961914\n",
      "True 16.576528549194336\n",
      "True 16.336441040039062\n",
      "True 15.544891357421875\n",
      "True 17.099618911743164\n",
      "True 14.316082000732422\n",
      "True 15.959739685058594\n",
      "True 16.670703887939453\n",
      "True 16.41082763671875\n",
      "True 15.938758850097656\n",
      "True 15.979766845703125\n",
      "True 14.288663864135742\n",
      "True 14.08243179321289\n",
      "True 14.916419982910156\n"
     ]
    }
   ],
   "metadata": {}
  },
  {
   "cell_type": "markdown",
   "source": [
    "清理"
   ],
   "metadata": {}
  },
  {
   "cell_type": "code",
   "execution_count": 9,
   "source": [
    "try:\r\n",
    "    # 删除bucket下所有object\r\n",
    "    bucket.objects.filter().delete()\r\n",
    "\r\n",
    "    # 删除bucket下某个object\r\n",
    "    # bucket.objects.filter(Prefix=obj_name).delete()\r\n",
    "\r\n",
    "    bucket.delete()\r\n",
    "except botocore.exceptions.ClientError as e:\r\n",
    "    print('error in bucket removal')"
   ],
   "outputs": [],
   "metadata": {}
  },
  {
   "cell_type": "code",
   "execution_count": 10,
   "source": [
    "# 删除本地测试文件\r\n",
    "\r\n",
    "os.remove(local_file)"
   ],
   "outputs": [],
   "metadata": {}
  },
  {
   "cell_type": "markdown",
   "source": [
    "记录延迟到CSV文件"
   ],
   "metadata": {}
  },
  {
   "cell_type": "code",
   "execution_count": 11,
   "source": [
    "with open(\"latency.csv\", \"w+\") as tracefile:\r\n",
    "    tracefile.write(\"latency\\n\")\r\n",
    "    tracefile.writelines([str(l) + '\\n' for l in latency])"
   ],
   "outputs": [],
   "metadata": {}
  }
 ],
 "metadata": {
  "orig_nbformat": 4,
  "language_info": {
   "name": "python",
   "version": "3.9.7",
   "mimetype": "text/x-python",
   "codemirror_mode": {
    "name": "ipython",
    "version": 3
   },
   "pygments_lexer": "ipython3",
   "nbconvert_exporter": "python",
   "file_extension": ".py"
  },
  "kernelspec": {
   "name": "python3",
   "display_name": "Python 3.9.7 64-bit ('lab': conda)"
  },
  "interpreter": {
   "hash": "f487011d6c19380a0f12fb28ca8659fdd2afd3ccddcfad5755f4bb9819179fc2"
  }
 },
 "nbformat": 4,
 "nbformat_minor": 2
}